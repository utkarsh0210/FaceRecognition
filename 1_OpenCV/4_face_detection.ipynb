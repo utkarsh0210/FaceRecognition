{
 "cells": [
  {
   "cell_type": "code",
   "execution_count": 58,
   "id": "5d617cdf-79f2-4ec1-8580-d753ab849965",
   "metadata": {},
   "outputs": [],
   "source": [
    "import numpy as np\n",
    "import cv2"
   ]
  },
  {
   "cell_type": "code",
   "execution_count": 59,
   "id": "59751e46-d974-4dca-b699-965766382fce",
   "metadata": {},
   "outputs": [],
   "source": [
    "img = cv2.imread('./data/irl.jpeg')\n",
    "cv2.imshow('image',img)\n",
    "cv2.waitKey()\n",
    "cv2.destroyAllWindows()"
   ]
  },
  {
   "cell_type": "code",
   "execution_count": 60,
   "id": "dcac0a84-65a0-423d-9bb8-58586e36a8c2",
   "metadata": {},
   "outputs": [],
   "source": [
    "img_shrink = cv2.resize(img,dsize=(320,240),interpolation=cv2.INTER_AREA)"
   ]
  },
  {
   "cell_type": "code",
   "execution_count": 61,
   "id": "8112782d-e1bc-493a-b40d-9ea3fe35f410",
   "metadata": {},
   "outputs": [],
   "source": [
    "cv2.imshow('image',img_shrink)\n",
    "cv2.waitKey()\n",
    "cv2.destroyAllWindows()"
   ]
  },
  {
   "cell_type": "code",
   "execution_count": 62,
   "id": "9052ba86-2ca8-4a29-b5cc-8f5cb27c1342",
   "metadata": {},
   "outputs": [],
   "source": [
    "#load casscade classifier\n",
    "haar = cv2.CascadeClassifier('./data/haarcascade_frontalface_default.xml')"
   ]
  },
  {
   "cell_type": "code",
   "execution_count": 63,
   "id": "1edc7072-6d2e-43a4-a7d9-5c2437733528",
   "metadata": {},
   "outputs": [],
   "source": [
    "#image = img.copy()\n",
    "image = img_shrink.copy()\n",
    "#gray = cv2.cvtColor(img, cv2.COLOR_BGR2GRAY)\n",
    "gray = cv2.cvtColor(img_shrink, cv2.COLOR_BGR2GRAY)\n",
    "#apply grayscale image to cascader classifier\n",
    "face_rect = haar.detectMultiScale(gray)\n",
    "#draw bounding box\n",
    "for x,y,w,h in face_rect:\n",
    "    cv2.rectangle(image,(x,y),(x+w,y+h),(0,255,0),2)\n",
    "\n",
    "cv2.imshow('detected faces',image)\n",
    "cv2.waitKey()\n",
    "cv2.destroyAllWindows()"
   ]
  },
  {
   "cell_type": "code",
   "execution_count": 29,
   "id": "49ceae27-213e-4387-86c7-c9582cf5c2aa",
   "metadata": {},
   "outputs": [
    {
     "name": "stdout",
     "output_type": "stream",
     "text": [
      "[[220 101  77  77]\n",
      " [299 127  62  62]\n",
      " [150 179  64  64]\n",
      " [ 90 141  79  79]\n",
      " [550 277  52  52]\n",
      " [404 219  73  73]\n",
      " [405 148  63  63]]\n"
     ]
    }
   ],
   "source": [
    "print(face_rect)"
   ]
  },
  {
   "cell_type": "code",
   "execution_count": 67,
   "id": "f38b54e5-6509-484b-a0aa-876070597bcb",
   "metadata": {},
   "outputs": [],
   "source": [
    "### Real time face detection using openCV\n",
    "cap = cv2.VideoCapture('./data/video.mp4')\n",
    "while True:\n",
    "    ret,frame = cap.read()\n",
    "    if ret == False:\n",
    "        break\n",
    "\n",
    "    image = frame.copy()\n",
    "    gray = cv2.cvtColor(image, cv2.COLOR_BGR2GRAY)\n",
    "    #apply grayscale image to cascader classifier\n",
    "    face_rect = haar.detectMultiScale(gray)\n",
    "    #draw bounding box\n",
    "    for x,y,w,h in face_rect:\n",
    "        cv2.rectangle(image,(x,y),(x+w,y+h),(0,255,0),2)\n",
    "    cv2.imshow('face_detect',image)\n",
    "\n",
    "    if cv2.waitKey(10) == 27:    #27 is ASCII for escape\n",
    "        break\n",
    "cap.release()\n",
    "cv2.destroyAllWindows()"
   ]
  },
  {
   "cell_type": "code",
   "execution_count": null,
   "id": "d90d7429-4c0a-4c38-8f2d-8ae97f8b0053",
   "metadata": {},
   "outputs": [],
   "source": []
  }
 ],
 "metadata": {
  "kernelspec": {
   "display_name": "Python 3 (ipykernel)",
   "language": "python",
   "name": "python3"
  },
  "language_info": {
   "codemirror_mode": {
    "name": "ipython",
    "version": 3
   },
   "file_extension": ".py",
   "mimetype": "text/x-python",
   "name": "python",
   "nbconvert_exporter": "python",
   "pygments_lexer": "ipython3",
   "version": "3.10.8"
  }
 },
 "nbformat": 4,
 "nbformat_minor": 5
}
