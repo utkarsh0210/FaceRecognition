{
 "cells": [
  {
   "cell_type": "code",
   "execution_count": 1,
   "id": "17f12a61-342a-4c67-8d18-7ffa66f2e893",
   "metadata": {},
   "outputs": [],
   "source": [
    "import numpy as np                   #numerical python\n",
    "import matplotlib.pyplot as plt      #visualisation library"
   ]
  },
  {
   "cell_type": "code",
   "execution_count": 3,
   "id": "76d31848-fc90-4560-87f6-fa803f8f23b1",
   "metadata": {},
   "outputs": [
    {
     "name": "stdout",
     "output_type": "stream",
     "text": [
      "[  0   1   2   3   4   5   6   7   8   9  10  11  12  13  14  15  16  17\n",
      "  18  19  20  21  22  23  24  25  26  27  28  29  30  31  32  33  34  35\n",
      "  36  37  38  39  40  41  42  43  44  45  46  47  48  49  50  51  52  53\n",
      "  54  55  56  57  58  59  60  61  62  63  64  65  66  67  68  69  70  71\n",
      "  72  73  74  75  76  77  78  79  80  81  82  83  84  85  86  87  88  89\n",
      "  90  91  92  93  94  95  96  97  98  99 100 101 102 103 104 105 106 107\n",
      " 108 109 110 111 112 113 114 115 116 117 118 119 120 121 122 123 124 125\n",
      " 126 127 128 129 130 131 132 133 134 135 136 137 138 139 140 141 142 143\n",
      " 144 145 146 147 148 149 150 151 152 153 154 155 156 157 158 159 160 161\n",
      " 162 163 164 165 166 167 168 169 170 171 172 173 174 175 176 177 178 179\n",
      " 180 181 182 183 184 185 186 187 188 189 190 191 192 193 194 195 196 197\n",
      " 198 199 200 201 202 203 204 205 206 207 208 209 210 211 212 213 214 215\n",
      " 216 217 218 219 220 221 222 223 224 225 226 227 228 229 230 231 232 233\n",
      " 234 235 236 237 238 239 240 241 242 243 244 245 246 247 248 249 250 251\n",
      " 252 253 254 255]\n"
     ]
    }
   ],
   "source": [
    "#create an array in range(0,255) , 16 x 16\n",
    "arr=np.arange(0,256,1)\n",
    "print(arr)"
   ]
  },
  {
   "cell_type": "raw",
   "id": "fe516c56-42ea-4116-8efc-084a04c70588",
   "metadata": {},
   "source": []
  },
  {
   "cell_type": "code",
   "execution_count": 4,
   "id": "1caa008f-388f-4765-821d-9e3c2935d1e8",
   "metadata": {},
   "outputs": [
    {
     "name": "stdout",
     "output_type": "stream",
     "text": [
      "[[  0   1   2   3   4   5   6   7   8   9  10  11  12  13  14  15]\n",
      " [ 16  17  18  19  20  21  22  23  24  25  26  27  28  29  30  31]\n",
      " [ 32  33  34  35  36  37  38  39  40  41  42  43  44  45  46  47]\n",
      " [ 48  49  50  51  52  53  54  55  56  57  58  59  60  61  62  63]\n",
      " [ 64  65  66  67  68  69  70  71  72  73  74  75  76  77  78  79]\n",
      " [ 80  81  82  83  84  85  86  87  88  89  90  91  92  93  94  95]\n",
      " [ 96  97  98  99 100 101 102 103 104 105 106 107 108 109 110 111]\n",
      " [112 113 114 115 116 117 118 119 120 121 122 123 124 125 126 127]\n",
      " [128 129 130 131 132 133 134 135 136 137 138 139 140 141 142 143]\n",
      " [144 145 146 147 148 149 150 151 152 153 154 155 156 157 158 159]\n",
      " [160 161 162 163 164 165 166 167 168 169 170 171 172 173 174 175]\n",
      " [176 177 178 179 180 181 182 183 184 185 186 187 188 189 190 191]\n",
      " [192 193 194 195 196 197 198 199 200 201 202 203 204 205 206 207]\n",
      " [208 209 210 211 212 213 214 215 216 217 218 219 220 221 222 223]\n",
      " [224 225 226 227 228 229 230 231 232 233 234 235 236 237 238 239]\n",
      " [240 241 242 243 244 245 246 247 248 249 250 251 252 253 254 255]]\n"
     ]
    }
   ],
   "source": [
    "arr=arr.reshape((16,16))\n",
    "print(arr)"
   ]
  },
  {
   "cell_type": "code",
   "execution_count": 7,
   "id": "2a18628b-cd95-442b-bcb0-12765239a357",
   "metadata": {},
   "outputs": [],
   "source": [
    "arr_8bit=arr.astype(np.uint8)"
   ]
  },
  {
   "cell_type": "code",
   "execution_count": 9,
   "id": "7333e52a-019d-49ca-abcf-5cfc73f50714",
   "metadata": {},
   "outputs": [
    {
     "data": {
      "image/png": "[encoded data removed]",
      "text/plain": [
       "<Figure size 640x480 with 1 Axes>"
      ]
     },
     "metadata": {},
     "output_type": "display_data"
    }
   ],
   "source": [
    "plt.imshow(arr_8bit,cmap='gray')\n",
    "plt.axis('off')\n",
    "plt.show()"
   ]
  },
  {
   "cell_type": "code",
   "execution_count": 13,
   "id": "3cfcd8dd-8fb6-4b05-8125-d23aea42d03c",
   "metadata": {},
   "outputs": [
    {
     "data": {
      "image/png": "[encoded data removed]",
      "text/plain": [
       "<Figure size 640x480 with 1 Axes>"
      ]
     },
     "metadata": {},
     "output_type": "display_data"
    }
   ],
   "source": [
    "arr1 = np.random.randint(low=0,high=255,size=(16,16),dtype = np.uint8)\n",
    "plt.imshow(arr1,cmap='gray')\n",
    "plt.axis('off')\n",
    "plt.show()"
   ]
  },
  {
   "cell_type": "code",
   "execution_count": 14,
   "id": "5c6df63e-fbc0-4dd0-838f-f26a72fd425b",
   "metadata": {},
   "outputs": [
    {
     "data": {
      "text/plain": [
       "array([[232, 145, 144,  67, 124,   9, 137, 127, 231,  91,  12, 231,  40,\n",
       "        170,   2,  79],\n",
       "       [207, 229, 134,  30,  33,  17,  68, 161, 134, 126,  82,  82, 151,\n",
       "        162, 109, 120],\n",
       "       [ 32, 134, 145, 229, 218, 198, 247,  25, 246, 164,  15, 208,   9,\n",
       "         59, 252,  76],\n",
       "       [ 15, 114,  40,  16, 225, 218, 252, 168, 139,  13, 149, 251, 195,\n",
       "        228, 171,  19],\n",
       "       [  8, 251, 207,  95, 158,   2, 236,  18, 169,  58, 159,  88, 201,\n",
       "         92, 195, 205],\n",
       "       [143,  48,   5, 197,  20,  42,  89,  80,  14, 175, 171,  94, 140,\n",
       "        141, 106, 254],\n",
       "       [  8, 204, 113, 247, 158, 123,  25,  73, 225, 208,  91,  11,  36,\n",
       "        228, 137,  62],\n",
       "       [ 97,  55,  81, 242, 140, 203,  36,   9, 247,  52, 174, 108, 146,\n",
       "         77,   7, 117],\n",
       "       [120,  68, 107, 197,  52, 100, 234,  30,  67, 212, 179,  13, 199,\n",
       "         48,  43,   8],\n",
       "       [ 97,  90,  36, 179, 185, 197, 237, 248, 149,  11, 211, 135, 149,\n",
       "          9,  18, 118],\n",
       "       [186, 178, 250,  41, 212, 110,  18, 168, 201,  80, 199,  11,  13,\n",
       "        208,   7, 156],\n",
       "       [218, 231, 238,   6, 139, 178, 152,  60, 111, 243,  99, 234,  42,\n",
       "        175,  15, 242],\n",
       "       [178,  70, 196, 235,  97, 237,  18, 197, 225, 182,  56, 217, 218,\n",
       "         66,  78, 106],\n",
       "       [139,  71,   3, 133, 197, 181,  65,  23, 158, 209, 125, 184,  11,\n",
       "        127,  34,  95],\n",
       "       [ 65, 250, 154, 229,  70, 208, 142, 182, 110,   6, 203, 232,   2,\n",
       "        251, 175, 160],\n",
       "       [120, 120,  28, 149, 199, 245, 174, 236,  40, 117, 218, 227,  72,\n",
       "        122, 229,  25]], dtype=uint8)"
      ]
     },
     "execution_count": 14,
     "metadata": {},
     "output_type": "execute_result"
    }
   ],
   "source": [
    "arr1"
   ]
  },
  {
   "cell_type": "code",
   "execution_count": null,
   "id": "f3177343-c2a6-41df-a225-f4b5a9ee9913",
   "metadata": {},
   "outputs": [],
   "source": []
  }
 ],
 "metadata": {
  "kernelspec": {
   "display_name": "Python 3 (ipykernel)",
   "language": "python",
   "name": "python3"
  },
  "language_info": {
   "codemirror_mode": {
    "name": "ipython",
    "version": 3
   },
   "file_extension": ".py",
   "mimetype": "text/x-python",
   "name": "python",
   "nbconvert_exporter": "python",
   "pygments_lexer": "ipython3",
   "version": "3.10.8"
  }
 },
 "nbformat": 4,
 "nbformat_minor": 5
}
